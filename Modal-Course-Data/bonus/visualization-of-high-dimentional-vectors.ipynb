{
 "cells": [
  {
   "cell_type": "code",
   "execution_count": 1,
   "id": "c8b5a69a",
   "metadata": {},
   "outputs": [],
   "source": [
    "import numpy as np\n",
    "from sentence_transformers import SentenceTransformer\n",
    "import matplotlib.pyplot as plt"
   ]
  },
  {
   "cell_type": "code",
   "execution_count": null,
   "id": "3c960f61",
   "metadata": {},
   "outputs": [],
   "source": [
    "model = SentenceTransformer('sentence-transformers/all-mpnet-base-v2')\n",
    "sentences = [\"king\", \"queen\", \"man\", \"woman\",\"orange\", \"green apple\",\"apple\", \"banana\", \"fruit\", \"computer\", \"laptop\", \"keyboard\"]\n",
    "embeddings = model.encode(sentences)\n",
    "\n",
    "fun_value = embeddings[1]-embeddings[3]+embeddings[2];"
   ]
  },
  {
   "cell_type": "code",
   "execution_count": null,
   "id": "af4bcf10",
   "metadata": {},
   "outputs": [],
   "source": [
    "embeddings.shape"
   ]
  },
  {
   "cell_type": "code",
   "execution_count": null,
   "id": "9d0cbf05",
   "metadata": {},
   "outputs": [],
   "source": [
    "from sklearn.decomposition import PCA\n",
    "pca_2d = PCA(n_components=2)\n",
    "embeddings_2d = pca_2d.fit_transform(embeddings)"
   ]
  },
  {
   "cell_type": "code",
   "execution_count": null,
   "id": "3470c516",
   "metadata": {},
   "outputs": [],
   "source": [
    "plt.figure(figsize=(10, 7))\n",
    "for i, point in enumerate(embeddings_2d):\n",
    "    plt.scatter(point[0], point[1])\n",
    "    plt.text(point[0] + 0.03, point[1] + 0.03, sentences[i])\n",
    "plt.title(\"PCA Visualization of Sentence Embeddings\")\n",
    "plt.grid(True)\n",
    "plt.show()"
   ]
  },
  {
   "cell_type": "markdown",
   "id": "eea17ce3",
   "metadata": {},
   "source": [
    "================ 3D ================"
   ]
  },
  {
   "cell_type": "code",
   "execution_count": null,
   "id": "a8ad2084",
   "metadata": {},
   "outputs": [],
   "source": [
    "from mpl_toolkits.mplot3d import Axes3D\n",
    "from sklearn.decomposition import PCA\n",
    "pca = PCA(n_components=3)\n",
    "embeddings_3d = pca.fit_transform(embeddings)\n",
    "fun_value_3d = pca.transform(fun_value.reshape(1, -1))\n",
    "\n",
    "embeddings_3d = np.concatenate((embeddings_3d, fun_value_3d), axis=0)\n",
    "sentences.append(\"fun_value\")"
   ]
  },
  {
   "cell_type": "code",
   "execution_count": null,
   "id": "0a12a302",
   "metadata": {},
   "outputs": [],
   "source": [
    "import plotly.graph_objects as go\n",
    "\n",
    "fig = go.Figure()\n",
    "\n",
    "# Add 3D scatter points\n",
    "fig.add_trace(go.Scatter3d(\n",
    "    x=[p[0] for p in embeddings_3d],\n",
    "    y=[p[1] for p in embeddings_3d],\n",
    "    z=[p[2] for p in embeddings_3d],\n",
    "    mode='markers+text',\n",
    "    text=sentences,  # Use raw text for clean labels\n",
    "    textposition='top center',\n",
    "    marker=dict(size=5, color='blue'),\n",
    "))\n",
    "\n",
    "fig.update_layout(\n",
    "    title='3D PCA Projection of Sentence Embeddings (Interactive)',\n",
    "    scene=dict(\n",
    "        xaxis_title='Embedding X',\n",
    "        xaxis_range=[-3,3],\n",
    "        yaxis_title='Embedding Y',\n",
    "        yaxis_range=[-3,3],\n",
    "        zaxis_title='Embedding Z',\n",
    "        zaxis_range=[-3,3],\n",
    "    ),\n",
    "    margin=dict(l=0, r=0, b=0, t=40),\n",
    "    height=700,\n",
    ")\n",
    "\n",
    "fig.show()"
   ]
  },
  {
   "cell_type": "code",
   "execution_count": null,
   "id": "87dab6a2",
   "metadata": {},
   "outputs": [],
   "source": [
    "fig = go.Figure()\n",
    "\n",
    "fig.add_trace(go.Scatter3d(\n",
    "    x=[p[0] for p in embeddings_3d],\n",
    "    y=[p[1] for p in embeddings_3d],\n",
    "    z=[p[2] for p in embeddings_3d],\n",
    "    mode='markers+text',\n",
    "    text=sentences,\n",
    "    textposition='top center',\n",
    "    marker=dict(size=5, color='blue'),\n",
    "))\n",
    "\n",
    "fig.update_layout(\n",
    "    title='3D PCA Projection of Sentence Embeddings (Interactive)',\n",
    "    scene=dict(\n",
    "        xaxis=dict(\n",
    "            title='',\n",
    "            showticklabels=True,\n",
    "            range=[-4, 4],  # custom axis range\n",
    "            showbackground=True,\n",
    "        ),\n",
    "        yaxis=dict(\n",
    "            title='',\n",
    "            showticklabels=True,\n",
    "            range=[-4, 4],\n",
    "            showbackground=True,\n",
    "        ),\n",
    "        zaxis=dict(\n",
    "            title='',\n",
    "            showticklabels=True,\n",
    "            range=[-4, 4],\n",
    "            showbackground=True,\n",
    "        ),\n",
    "    ),\n",
    "    margin=dict(l=0, r=0, b=0, t=40),\n",
    "    height=700,\n",
    ")\n",
    "fig.show()"
   ]
  }
 ],
 "metadata": {
  "kernelspec": {
   "display_name": "llms",
   "language": "python",
   "name": "python3"
  },
  "language_info": {
   "codemirror_mode": {
    "name": "ipython",
    "version": 3
   },
   "file_extension": ".py",
   "mimetype": "text/x-python",
   "name": "python",
   "nbconvert_exporter": "python",
   "pygments_lexer": "ipython3",
   "version": "3.11.13"
  }
 },
 "nbformat": 4,
 "nbformat_minor": 5
}
